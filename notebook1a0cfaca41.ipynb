{
 "cells": [
  {
   "cell_type": "code",
   "execution_count": 1,
   "id": "d4b388c7",
   "metadata": {
    "_cell_guid": "b1076dfc-b9ad-4769-8c92-a6c4dae69d19",
    "_uuid": "8f2839f25d086af736a60e9eeb907d3b93b6e0e5",
    "execution": {
     "iopub.execute_input": "2021-08-27T10:24:54.014533Z",
     "iopub.status.busy": "2021-08-27T10:24:54.013382Z",
     "iopub.status.idle": "2021-08-27T10:24:54.038327Z",
     "shell.execute_reply": "2021-08-27T10:24:54.038981Z",
     "shell.execute_reply.started": "2021-08-27T09:05:54.254333Z"
    },
    "papermill": {
     "duration": 0.036498,
     "end_time": "2021-08-27T10:24:54.039411",
     "exception": false,
     "start_time": "2021-08-27T10:24:54.002913",
     "status": "completed"
    },
    "tags": []
   },
   "outputs": [
    {
     "name": "stdout",
     "output_type": "stream",
     "text": [
      "/kaggle/input/temperature-change/FAOSTAT_data_11-24-2020.csv\n",
      "/kaggle/input/temperature-change/Environment_Temperature_change_E_All_Data_NOFLAG.csv\n"
     ]
    }
   ],
   "source": [
    "# This Python 3 environment comes with many helpful analytics libraries installed\n",
    "# It is defined by the kaggle/python Docker image: https://github.com/kaggle/docker-python\n",
    "# For example, here's several helpful packages to load\n",
    "\n",
    "import numpy as np # linear algebra\n",
    "import pandas as pd # data processing, CSV file I/O (e.g. pd.read_csv)\n",
    "\n",
    "# Input data files are available in the read-only \"../input/\" directory\n",
    "# For example, running this (by clicking run or pressing Shift+Enter) will list all files under the input directory\n",
    "\n",
    "import os\n",
    "for dirname, _, filenames in os.walk('/kaggle/input'):\n",
    "    for filename in filenames:\n",
    "        print(os.path.join(dirname, filename))\n",
    "\n",
    "# You can write up to 20GB to the current directory (/kaggle/working/) that gets preserved as output when you create a version using \"Save & Run All\" \n",
    "# You can also write temporary files to /kaggle/temp/, but they won't be saved outside of the current session"
   ]
  },
  {
   "cell_type": "code",
   "execution_count": 2,
   "id": "a59ee27d",
   "metadata": {
    "execution": {
     "iopub.execute_input": "2021-08-27T10:24:54.057896Z",
     "iopub.status.busy": "2021-08-27T10:24:54.057189Z",
     "iopub.status.idle": "2021-08-27T10:24:55.140412Z",
     "shell.execute_reply": "2021-08-27T10:24:55.139803Z",
     "shell.execute_reply.started": "2021-08-27T09:24:25.402513Z"
    },
    "papermill": {
     "duration": 1.094487,
     "end_time": "2021-08-27T10:24:55.140555",
     "exception": false,
     "start_time": "2021-08-27T10:24:54.046068",
     "status": "completed"
    },
    "tags": []
   },
   "outputs": [],
   "source": [
    "import pandas as pd\n",
    "pd.plotting.register_matplotlib_converters()\n",
    "import matplotlib.pyplot as plt\n",
    "%matplotlib inline\n",
    "import seaborn as sns\n",
    "import os\n"
   ]
  },
  {
   "cell_type": "code",
   "execution_count": null,
   "id": "0373b156",
   "metadata": {
    "execution": {
     "iopub.execute_input": "2021-08-27T09:29:33.163208Z",
     "iopub.status.busy": "2021-08-27T09:29:33.162849Z",
     "iopub.status.idle": "2021-08-27T09:29:33.365400Z",
     "shell.execute_reply": "2021-08-27T09:29:33.364214Z",
     "shell.execute_reply.started": "2021-08-27T09:29:33.163179Z"
    },
    "papermill": {
     "duration": null,
     "end_time": null,
     "exception": false,
     "start_time": "2021-08-27T10:24:55.146504",
     "status": "running"
    },
    "tags": []
   },
   "outputs": [],
   "source": [
    "GLobalTemperature_filepath = \"/kaggle/input/temperature-change/Environment_Temperature_change_E_All_Data_NOFLAG.csv\"\n",
    "GLobalTemperature_data = pd.read_csv(GLobalTemperature_filepath,index_col = \"Area\")\n",
    "print(GLobalTemperature_data)"
   ]
  },
  {
   "cell_type": "code",
   "execution_count": null,
   "id": "a7454466",
   "metadata": {
    "execution": {
     "iopub.execute_input": "2021-08-27T09:55:59.662495Z",
     "iopub.status.busy": "2021-08-27T09:55:59.662083Z",
     "iopub.status.idle": "2021-08-27T09:55:59.866216Z",
     "shell.execute_reply": "2021-08-27T09:55:59.865210Z",
     "shell.execute_reply.started": "2021-08-27T09:55:59.662460Z"
    },
    "papermill": {
     "duration": null,
     "end_time": null,
     "exception": null,
     "start_time": null,
     "status": "pending"
    },
    "tags": []
   },
   "outputs": [],
   "source": [
    "sns.scatterplot(x=GLobalTemperature_data[\"Y1961\"], y=GLobalTemperature_data[\"Y2019\"])"
   ]
  },
  {
   "cell_type": "code",
   "execution_count": null,
   "id": "7d7bdf02",
   "metadata": {
    "papermill": {
     "duration": null,
     "end_time": null,
     "exception": null,
     "start_time": null,
     "status": "pending"
    },
    "tags": []
   },
   "outputs": [],
   "source": []
  }
 ],
 "metadata": {
  "kernelspec": {
   "display_name": "Python 3",
   "language": "python",
   "name": "python3"
  },
  "language_info": {
   "codemirror_mode": {
    "name": "ipython",
    "version": 3
   },
   "file_extension": ".py",
   "mimetype": "text/x-python",
   "name": "python",
   "nbconvert_exporter": "python",
   "pygments_lexer": "ipython3",
   "version": "3.6.4"
  },
  "papermill": {
   "default_parameters": {},
   "duration": null,
   "end_time": null,
   "environment_variables": {},
   "exception": null,
   "input_path": "__notebook__.ipynb",
   "output_path": "__notebook__.ipynb",
   "parameters": {},
   "start_time": "2021-08-27T10:24:44.740588",
   "version": "2.3.3"
  }
 },
 "nbformat": 4,
 "nbformat_minor": 5
}